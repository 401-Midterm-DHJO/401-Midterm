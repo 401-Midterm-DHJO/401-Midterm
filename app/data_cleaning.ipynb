{
 "cells": [
  {
   "cell_type": "code",
   "execution_count": 103,
   "metadata": {
    "collapsed": true
   },
   "outputs": [],
   "source": [
    "import pandas as pd\n",
    "import numpy as np\n",
    "import matplotlib.pyplot as plt"
   ]
  },
  {
   "cell_type": "code",
   "execution_count": 104,
   "outputs": [],
   "source": [
    "def to_hours(time):\n",
    "    return (time // 3600) + 6\n",
    "\n",
    "def clean_sales_data():\n",
    "    df = pd.read_csv(\"../assets/example_data/sales_data.csv\")\n",
    "    sales_df = df[['token_id', 'sold_at', 'price']]\n",
    "    sales_df = sales_df.rename(columns={'token_id': 'horse_id', 'sold_at': 'time_sold'}).sort_values('horse_id').reset_index(drop=True)\n",
    "    sales_df['time_sold'] = sales_df['time_sold'].apply(to_hours)\n",
    "\n",
    "    return sales_df"
   ],
   "metadata": {
    "collapsed": false
   }
  },
  {
   "cell_type": "markdown",
   "source": [],
   "metadata": {
    "collapsed": false
   }
  },
  {
   "cell_type": "code",
   "execution_count": 105,
   "outputs": [],
   "source": [
    "sales_data = clean_sales_data()"
   ],
   "metadata": {
    "collapsed": false
   }
  },
  {
   "cell_type": "code",
   "execution_count": 106,
   "outputs": [],
   "source": [
    "# sales_data['price'].hist()"
   ],
   "metadata": {
    "collapsed": false
   }
  },
  {
   "cell_type": "code",
   "execution_count": 107,
   "outputs": [
    {
     "data": {
      "text/plain": "      Unnamed: 0  timestamp  eth_price\n9091        9091     464923    1533.01\n9092        9092     464924    1529.65\n9093        9093     464925    1535.38\n9094        9094     464926    1538.76\n9095        9095     464927    1550.97",
      "text/html": "<div>\n<style scoped>\n    .dataframe tbody tr th:only-of-type {\n        vertical-align: middle;\n    }\n\n    .dataframe tbody tr th {\n        vertical-align: top;\n    }\n\n    .dataframe thead th {\n        text-align: right;\n    }\n</style>\n<table border=\"1\" class=\"dataframe\">\n  <thead>\n    <tr style=\"text-align: right;\">\n      <th></th>\n      <th>Unnamed: 0</th>\n      <th>timestamp</th>\n      <th>eth_price</th>\n    </tr>\n  </thead>\n  <tbody>\n    <tr>\n      <th>9091</th>\n      <td>9091</td>\n      <td>464923</td>\n      <td>1533.01</td>\n    </tr>\n    <tr>\n      <th>9092</th>\n      <td>9092</td>\n      <td>464924</td>\n      <td>1529.65</td>\n    </tr>\n    <tr>\n      <th>9093</th>\n      <td>9093</td>\n      <td>464925</td>\n      <td>1535.38</td>\n    </tr>\n    <tr>\n      <th>9094</th>\n      <td>9094</td>\n      <td>464926</td>\n      <td>1538.76</td>\n    </tr>\n    <tr>\n      <th>9095</th>\n      <td>9095</td>\n      <td>464927</td>\n      <td>1550.97</td>\n    </tr>\n  </tbody>\n</table>\n</div>"
     },
     "execution_count": 107,
     "metadata": {},
     "output_type": "execute_result"
    }
   ],
   "source": [
    "eth_prices = pd.read_csv('../assets/eth_price_history.csv')\n",
    "eth_prices.tail()"
   ],
   "metadata": {
    "collapsed": false
   }
  },
  {
   "cell_type": "code",
   "execution_count": 108,
   "outputs": [
    {
     "data": {
      "text/plain": "       horse_id  time_sold  converted_price\n0            27     458373        60665.000\n1            68     460370        13934.205\n2            75     460370         9693.360\n3            89     460370         9693.360\n4            92     461981        10943.775\n...         ...        ...              ...\n74906    520344     464862          139.492\n74907    520345     464871          138.079\n74908    520346     464863          139.884\n74909    520404     464901          499.436\n74910    520481     464905          539.315\n\n[74911 rows x 3 columns]",
      "text/html": "<div>\n<style scoped>\n    .dataframe tbody tr th:only-of-type {\n        vertical-align: middle;\n    }\n\n    .dataframe tbody tr th {\n        vertical-align: top;\n    }\n\n    .dataframe thead th {\n        text-align: right;\n    }\n</style>\n<table border=\"1\" class=\"dataframe\">\n  <thead>\n    <tr style=\"text-align: right;\">\n      <th></th>\n      <th>horse_id</th>\n      <th>time_sold</th>\n      <th>converted_price</th>\n    </tr>\n  </thead>\n  <tbody>\n    <tr>\n      <th>0</th>\n      <td>27</td>\n      <td>458373</td>\n      <td>60665.000</td>\n    </tr>\n    <tr>\n      <th>1</th>\n      <td>68</td>\n      <td>460370</td>\n      <td>13934.205</td>\n    </tr>\n    <tr>\n      <th>2</th>\n      <td>75</td>\n      <td>460370</td>\n      <td>9693.360</td>\n    </tr>\n    <tr>\n      <th>3</th>\n      <td>89</td>\n      <td>460370</td>\n      <td>9693.360</td>\n    </tr>\n    <tr>\n      <th>4</th>\n      <td>92</td>\n      <td>461981</td>\n      <td>10943.775</td>\n    </tr>\n    <tr>\n      <th>...</th>\n      <td>...</td>\n      <td>...</td>\n      <td>...</td>\n    </tr>\n    <tr>\n      <th>74906</th>\n      <td>520344</td>\n      <td>464862</td>\n      <td>139.492</td>\n    </tr>\n    <tr>\n      <th>74907</th>\n      <td>520345</td>\n      <td>464871</td>\n      <td>138.079</td>\n    </tr>\n    <tr>\n      <th>74908</th>\n      <td>520346</td>\n      <td>464863</td>\n      <td>139.884</td>\n    </tr>\n    <tr>\n      <th>74909</th>\n      <td>520404</td>\n      <td>464901</td>\n      <td>499.436</td>\n    </tr>\n    <tr>\n      <th>74910</th>\n      <td>520481</td>\n      <td>464905</td>\n      <td>539.315</td>\n    </tr>\n  </tbody>\n</table>\n<p>74911 rows × 3 columns</p>\n</div>"
     },
     "execution_count": 108,
     "metadata": {},
     "output_type": "execute_result"
    }
   ],
   "source": [
    "merged = pd.merge(sales_data, eth_prices, left_on='time_sold', right_on='timestamp', how='left')\n",
    "merged['converted_price'] = merged['price'] * merged['eth_price']\n",
    "clean_market_data = merged.drop(columns=['Unnamed: 0', 'price', 'timestamp','eth_price'])\n",
    "clean_market_data"
   ],
   "metadata": {
    "collapsed": false
   }
  },
  {
   "cell_type": "code",
   "execution_count": 109,
   "outputs": [
    {
     "data": {
      "text/plain": "       horse_id  time_sold  converted_price\n13115    154936     464926          15.3876\n13116    154936     463789          11.6966",
      "text/html": "<div>\n<style scoped>\n    .dataframe tbody tr th:only-of-type {\n        vertical-align: middle;\n    }\n\n    .dataframe tbody tr th {\n        vertical-align: top;\n    }\n\n    .dataframe thead th {\n        text-align: right;\n    }\n</style>\n<table border=\"1\" class=\"dataframe\">\n  <thead>\n    <tr style=\"text-align: right;\">\n      <th></th>\n      <th>horse_id</th>\n      <th>time_sold</th>\n      <th>converted_price</th>\n    </tr>\n  </thead>\n  <tbody>\n    <tr>\n      <th>13115</th>\n      <td>154936</td>\n      <td>464926</td>\n      <td>15.3876</td>\n    </tr>\n    <tr>\n      <th>13116</th>\n      <td>154936</td>\n      <td>463789</td>\n      <td>11.6966</td>\n    </tr>\n  </tbody>\n</table>\n</div>"
     },
     "execution_count": 109,
     "metadata": {},
     "output_type": "execute_result"
    }
   ],
   "source": [
    "test_sales = clean_market_data[clean_market_data['horse_id'] == 154936]\n",
    "test_sales"
   ],
   "metadata": {
    "collapsed": false
   }
  },
  {
   "cell_type": "code",
   "execution_count": 110,
   "outputs": [
    {
     "data": {
      "text/plain": "  bloodline breed_type  breeding_counter     horse_color data_horse_gen  \\\n0   Buterin  exclusive                 3  Dark Byzantium            Z10   \n\n  horse_type                                img_url   last_breeding_reset  \\\n0   Stallion  https://img.zed.run/horses/5D3954.png  2022-12-23T20:28:07Z   \n\n            horse_name  nft_id  first_place_finishes  number_races  \\\n0  Scrunter S Thompson  154936                    11           101   \n\n   second_place_finishes  third_place_finishes  win_rate  \n0                      7                    10     10.89  ",
      "text/html": "<div>\n<style scoped>\n    .dataframe tbody tr th:only-of-type {\n        vertical-align: middle;\n    }\n\n    .dataframe tbody tr th {\n        vertical-align: top;\n    }\n\n    .dataframe thead th {\n        text-align: right;\n    }\n</style>\n<table border=\"1\" class=\"dataframe\">\n  <thead>\n    <tr style=\"text-align: right;\">\n      <th></th>\n      <th>bloodline</th>\n      <th>breed_type</th>\n      <th>breeding_counter</th>\n      <th>horse_color</th>\n      <th>data_horse_gen</th>\n      <th>horse_type</th>\n      <th>img_url</th>\n      <th>last_breeding_reset</th>\n      <th>horse_name</th>\n      <th>nft_id</th>\n      <th>first_place_finishes</th>\n      <th>number_races</th>\n      <th>second_place_finishes</th>\n      <th>third_place_finishes</th>\n      <th>win_rate</th>\n    </tr>\n  </thead>\n  <tbody>\n    <tr>\n      <th>0</th>\n      <td>Buterin</td>\n      <td>exclusive</td>\n      <td>3</td>\n      <td>Dark Byzantium</td>\n      <td>Z10</td>\n      <td>Stallion</td>\n      <td>https://img.zed.run/horses/5D3954.png</td>\n      <td>2022-12-23T20:28:07Z</td>\n      <td>Scrunter S Thompson</td>\n      <td>154936</td>\n      <td>11</td>\n      <td>101</td>\n      <td>7</td>\n      <td>10</td>\n      <td>10.89</td>\n    </tr>\n  </tbody>\n</table>\n</div>"
     },
     "execution_count": 110,
     "metadata": {},
     "output_type": "execute_result"
    }
   ],
   "source": [
    "# horse data cleaning\n",
    "horse_data = pd.read_csv('../assets/example_data/horse_meta_data.csv')\n",
    "horse_data.columns\n",
    "horse_data = horse_data.rename(columns={'data_horse_bloodline':'bloodline', 'data_horse_breed_type':'breed_type',\n",
    "                           'data_horse_breeding_counter':'breeding_counter', 'data_horse_color':'horse_color',\n",
    "                           'data_horse_horse_type':'horse_type', 'data_horse_img_url':'img_url',\n",
    "                           'data_horse_last_breeding_reset':'last_breeding_reset', 'data_horse_name':'horse_name',\n",
    "                           'data_horse_nft_id':'nft_id', 'data_horse_offsprings':'offsprings',\n",
    "                           'data_horse_race_statistic_first_place_finishes':'first_place_finishes',\n",
    "                           'data_horse_race_statistic_number_of_races':'number_races',\n",
    "       'data_horse_race_statistic_second_place_finishes':'second_place_finishes',\n",
    "       'data_horse_race_statistic_third_place_finishes':'third_place_finishes',\n",
    "       'data_horse_race_statistic_win_rate':'win_rate'})\n",
    "horse_data = horse_data.drop(columns=['Unnamed: 0', 'data_horse_inserted_at', 'offsprings'])\n",
    "horse_data.head()"
   ],
   "metadata": {
    "collapsed": false
   }
  },
  {
   "cell_type": "code",
   "execution_count": 112,
   "outputs": [
    {
     "data": {
      "text/plain": "  bloodline breed_type  breeding_counter     horse_color data_horse_gen  \\\n0   Buterin  exclusive                 3  Dark Byzantium            Z10   \n1   Buterin  exclusive                 3  Dark Byzantium            Z10   \n\n  horse_type                                img_url   last_breeding_reset  \\\n0   Stallion  https://img.zed.run/horses/5D3954.png  2022-12-23T20:28:07Z   \n1   Stallion  https://img.zed.run/horses/5D3954.png  2022-12-23T20:28:07Z   \n\n            horse_name  nft_id  first_place_finishes  number_races  \\\n0  Scrunter S Thompson  154936                    11           101   \n1  Scrunter S Thompson  154936                    11           101   \n\n   second_place_finishes  third_place_finishes  win_rate  horse_id  time_sold  \\\n0                      7                    10     10.89    154936     464926   \n1                      7                    10     10.89    154936     463789   \n\n   converted_price  \n0          15.3876  \n1          11.6966  ",
      "text/html": "<div>\n<style scoped>\n    .dataframe tbody tr th:only-of-type {\n        vertical-align: middle;\n    }\n\n    .dataframe tbody tr th {\n        vertical-align: top;\n    }\n\n    .dataframe thead th {\n        text-align: right;\n    }\n</style>\n<table border=\"1\" class=\"dataframe\">\n  <thead>\n    <tr style=\"text-align: right;\">\n      <th></th>\n      <th>bloodline</th>\n      <th>breed_type</th>\n      <th>breeding_counter</th>\n      <th>horse_color</th>\n      <th>data_horse_gen</th>\n      <th>horse_type</th>\n      <th>img_url</th>\n      <th>last_breeding_reset</th>\n      <th>horse_name</th>\n      <th>nft_id</th>\n      <th>first_place_finishes</th>\n      <th>number_races</th>\n      <th>second_place_finishes</th>\n      <th>third_place_finishes</th>\n      <th>win_rate</th>\n      <th>horse_id</th>\n      <th>time_sold</th>\n      <th>converted_price</th>\n    </tr>\n  </thead>\n  <tbody>\n    <tr>\n      <th>0</th>\n      <td>Buterin</td>\n      <td>exclusive</td>\n      <td>3</td>\n      <td>Dark Byzantium</td>\n      <td>Z10</td>\n      <td>Stallion</td>\n      <td>https://img.zed.run/horses/5D3954.png</td>\n      <td>2022-12-23T20:28:07Z</td>\n      <td>Scrunter S Thompson</td>\n      <td>154936</td>\n      <td>11</td>\n      <td>101</td>\n      <td>7</td>\n      <td>10</td>\n      <td>10.89</td>\n      <td>154936</td>\n      <td>464926</td>\n      <td>15.3876</td>\n    </tr>\n    <tr>\n      <th>1</th>\n      <td>Buterin</td>\n      <td>exclusive</td>\n      <td>3</td>\n      <td>Dark Byzantium</td>\n      <td>Z10</td>\n      <td>Stallion</td>\n      <td>https://img.zed.run/horses/5D3954.png</td>\n      <td>2022-12-23T20:28:07Z</td>\n      <td>Scrunter S Thompson</td>\n      <td>154936</td>\n      <td>11</td>\n      <td>101</td>\n      <td>7</td>\n      <td>10</td>\n      <td>10.89</td>\n      <td>154936</td>\n      <td>463789</td>\n      <td>11.6966</td>\n    </tr>\n  </tbody>\n</table>\n</div>"
     },
     "execution_count": 112,
     "metadata": {},
     "output_type": "execute_result"
    }
   ],
   "source": [
    "# code to merge horse data with sales data\n",
    "test_merge = pd.merge(horse_data,test_sales, right_on='horse_id', left_on='nft_id', how='left')\n",
    "test_merge"
   ],
   "metadata": {
    "collapsed": false
   }
  },
  {
   "cell_type": "code",
   "execution_count": null,
   "outputs": [],
   "source": [],
   "metadata": {
    "collapsed": false
   }
  }
 ],
 "metadata": {
  "kernelspec": {
   "display_name": "Python 3",
   "language": "python",
   "name": "python3"
  },
  "language_info": {
   "codemirror_mode": {
    "name": "ipython",
    "version": 2
   },
   "file_extension": ".py",
   "mimetype": "text/x-python",
   "name": "python",
   "nbconvert_exporter": "python",
   "pygments_lexer": "ipython2",
   "version": "2.7.6"
  }
 },
 "nbformat": 4,
 "nbformat_minor": 0
}

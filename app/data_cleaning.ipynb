{
 "cells": [
  {
   "cell_type": "code",
   "execution_count": 147,
   "metadata": {
    "collapsed": true
   },
   "outputs": [],
   "source": [
    "import pandas as pd\n",
    "import numpy as np\n",
    "import matplotlib.pyplot as plt"
   ]
  },
  {
   "cell_type": "code",
   "execution_count": 148,
   "outputs": [],
   "source": [
    "def to_hours(time):\n",
    "    return (time // 3600) + 6\n",
    "\n",
    "def clean_sales_data():\n",
    "    df = pd.read_csv(\"../assets/example_data/sales_data.csv\")\n",
    "    sales_df = df[['token_id', 'sold_at', 'price']]\n",
    "    sales_df = sales_df.rename(columns={'token_id': 'horse_id', 'sold_at': 'time_sold'}).sort_values('horse_id').reset_index(drop=True)\n",
    "    sales_df['time_sold'] = sales_df['time_sold'].apply(to_hours)\n",
    "\n",
    "    return sales_df"
   ],
   "metadata": {
    "collapsed": false
   }
  },
  {
   "cell_type": "markdown",
   "source": [],
   "metadata": {
    "collapsed": false
   }
  },
  {
   "cell_type": "code",
   "execution_count": 149,
   "outputs": [],
   "source": [
    "sales_data = clean_sales_data()"
   ],
   "metadata": {
    "collapsed": false
   }
  },
  {
   "cell_type": "code",
   "execution_count": 150,
   "outputs": [
    {
     "data": {
      "text/plain": "      Unnamed: 0  timestamp  eth_price\n9091        9091     464923    1533.01\n9092        9092     464924    1529.65\n9093        9093     464925    1535.38\n9094        9094     464926    1538.76\n9095        9095     464927    1550.97",
      "text/html": "<div>\n<style scoped>\n    .dataframe tbody tr th:only-of-type {\n        vertical-align: middle;\n    }\n\n    .dataframe tbody tr th {\n        vertical-align: top;\n    }\n\n    .dataframe thead th {\n        text-align: right;\n    }\n</style>\n<table border=\"1\" class=\"dataframe\">\n  <thead>\n    <tr style=\"text-align: right;\">\n      <th></th>\n      <th>Unnamed: 0</th>\n      <th>timestamp</th>\n      <th>eth_price</th>\n    </tr>\n  </thead>\n  <tbody>\n    <tr>\n      <th>9091</th>\n      <td>9091</td>\n      <td>464923</td>\n      <td>1533.01</td>\n    </tr>\n    <tr>\n      <th>9092</th>\n      <td>9092</td>\n      <td>464924</td>\n      <td>1529.65</td>\n    </tr>\n    <tr>\n      <th>9093</th>\n      <td>9093</td>\n      <td>464925</td>\n      <td>1535.38</td>\n    </tr>\n    <tr>\n      <th>9094</th>\n      <td>9094</td>\n      <td>464926</td>\n      <td>1538.76</td>\n    </tr>\n    <tr>\n      <th>9095</th>\n      <td>9095</td>\n      <td>464927</td>\n      <td>1550.97</td>\n    </tr>\n  </tbody>\n</table>\n</div>"
     },
     "execution_count": 150,
     "metadata": {},
     "output_type": "execute_result"
    }
   ],
   "source": [
    "eth_prices = pd.read_csv('../assets/eth_price_history.csv')\n",
    "eth_prices.tail()"
   ],
   "metadata": {
    "collapsed": false
   }
  },
  {
   "cell_type": "code",
   "execution_count": 151,
   "outputs": [],
   "source": [
    "merged = pd.merge(sales_data, eth_prices, left_on='time_sold', right_on='timestamp', how='left')\n",
    "merged['converted_price'] = merged['price'] * merged['eth_price']\n",
    "clean_market_data = merged.drop(columns=['Unnamed: 0', 'price', 'timestamp','eth_price'])"
   ],
   "metadata": {
    "collapsed": false
   }
  },
  {
   "cell_type": "code",
   "execution_count": 152,
   "outputs": [
    {
     "name": "stdout",
     "output_type": "stream",
     "text": [
      "0      154936\n",
      "1      393233\n",
      "2      131092\n",
      "3      131093\n",
      "4      393237\n",
      "        ...  \n",
      "103    131738\n",
      "104       668\n",
      "105    131749\n",
      "106    131767\n",
      "107    131778\n",
      "Name: nft_id, Length: 108, dtype: int64\n"
     ]
    },
    {
     "data": {
      "text/plain": "  bloodline breed_type  breeding_counter           horse_color data.horse.gen  \\\n0   Buterin  exclusive                 3        Dark Byzantium            Z10   \n1  Nakamoto  exclusive                 3              Fandango             Z5   \n2    Finney  legendary                 3  Air Superiority Blue             Z7   \n3  Nakamoto  exclusive                 3     Battle Horse Gray             Z6   \n4   Buterin      elite                 3              Eminence            Z16   \n\n  horse_type                                img_url data.horse.inserted_at  \\\n0   Stallion  https://img.zed.run/horses/5D3954.png    2021-11-26T20:32:39   \n1       Colt  https://img.zed.run/horses/B53389.png    2022-04-15T08:36:23   \n2   Stallion  https://img.zed.run/horses/72A0C1.png    2021-10-17T06:37:21   \n3       Colt  https://img.zed.run/horses/848482.png    2021-10-17T06:37:43   \n4       Colt  https://img.zed.run/horses/6C3082.png    2022-04-15T08:51:24   \n\n    last_breeding_reset           horse_name  nft_id  first_place_finishes  \\\n0  2022-12-23T20:28:07Z  Scrunter S Thompson  154936                    11   \n1  2022-12-23T08:31:54Z               Nakuza  393233                     6   \n2  2023-01-08T06:30:43Z    Glorified Liberty  131092                     5   \n3  2023-01-08T06:31:09Z    Glorified Ecstasy  131093                    12   \n4  2022-12-23T08:46:42Z       System America  393237                     0   \n\n   number_races  second_place_finishes  third_place_finishes  win_rate  \n0           101                      7                    10     10.89  \n1           131                     15                    12      4.58  \n2            65                      7                     8      7.69  \n3           151                      9                    15      7.95  \n4            11                      0                     1      0.00  ",
      "text/html": "<div>\n<style scoped>\n    .dataframe tbody tr th:only-of-type {\n        vertical-align: middle;\n    }\n\n    .dataframe tbody tr th {\n        vertical-align: top;\n    }\n\n    .dataframe thead th {\n        text-align: right;\n    }\n</style>\n<table border=\"1\" class=\"dataframe\">\n  <thead>\n    <tr style=\"text-align: right;\">\n      <th></th>\n      <th>bloodline</th>\n      <th>breed_type</th>\n      <th>breeding_counter</th>\n      <th>horse_color</th>\n      <th>data.horse.gen</th>\n      <th>horse_type</th>\n      <th>img_url</th>\n      <th>data.horse.inserted_at</th>\n      <th>last_breeding_reset</th>\n      <th>horse_name</th>\n      <th>nft_id</th>\n      <th>first_place_finishes</th>\n      <th>number_races</th>\n      <th>second_place_finishes</th>\n      <th>third_place_finishes</th>\n      <th>win_rate</th>\n    </tr>\n  </thead>\n  <tbody>\n    <tr>\n      <th>0</th>\n      <td>Buterin</td>\n      <td>exclusive</td>\n      <td>3</td>\n      <td>Dark Byzantium</td>\n      <td>Z10</td>\n      <td>Stallion</td>\n      <td>https://img.zed.run/horses/5D3954.png</td>\n      <td>2021-11-26T20:32:39</td>\n      <td>2022-12-23T20:28:07Z</td>\n      <td>Scrunter S Thompson</td>\n      <td>154936</td>\n      <td>11</td>\n      <td>101</td>\n      <td>7</td>\n      <td>10</td>\n      <td>10.89</td>\n    </tr>\n    <tr>\n      <th>1</th>\n      <td>Nakamoto</td>\n      <td>exclusive</td>\n      <td>3</td>\n      <td>Fandango</td>\n      <td>Z5</td>\n      <td>Colt</td>\n      <td>https://img.zed.run/horses/B53389.png</td>\n      <td>2022-04-15T08:36:23</td>\n      <td>2022-12-23T08:31:54Z</td>\n      <td>Nakuza</td>\n      <td>393233</td>\n      <td>6</td>\n      <td>131</td>\n      <td>15</td>\n      <td>12</td>\n      <td>4.58</td>\n    </tr>\n    <tr>\n      <th>2</th>\n      <td>Finney</td>\n      <td>legendary</td>\n      <td>3</td>\n      <td>Air Superiority Blue</td>\n      <td>Z7</td>\n      <td>Stallion</td>\n      <td>https://img.zed.run/horses/72A0C1.png</td>\n      <td>2021-10-17T06:37:21</td>\n      <td>2023-01-08T06:30:43Z</td>\n      <td>Glorified Liberty</td>\n      <td>131092</td>\n      <td>5</td>\n      <td>65</td>\n      <td>7</td>\n      <td>8</td>\n      <td>7.69</td>\n    </tr>\n    <tr>\n      <th>3</th>\n      <td>Nakamoto</td>\n      <td>exclusive</td>\n      <td>3</td>\n      <td>Battle Horse Gray</td>\n      <td>Z6</td>\n      <td>Colt</td>\n      <td>https://img.zed.run/horses/848482.png</td>\n      <td>2021-10-17T06:37:43</td>\n      <td>2023-01-08T06:31:09Z</td>\n      <td>Glorified Ecstasy</td>\n      <td>131093</td>\n      <td>12</td>\n      <td>151</td>\n      <td>9</td>\n      <td>15</td>\n      <td>7.95</td>\n    </tr>\n    <tr>\n      <th>4</th>\n      <td>Buterin</td>\n      <td>elite</td>\n      <td>3</td>\n      <td>Eminence</td>\n      <td>Z16</td>\n      <td>Colt</td>\n      <td>https://img.zed.run/horses/6C3082.png</td>\n      <td>2022-04-15T08:51:24</td>\n      <td>2022-12-23T08:46:42Z</td>\n      <td>System America</td>\n      <td>393237</td>\n      <td>0</td>\n      <td>11</td>\n      <td>0</td>\n      <td>1</td>\n      <td>0.00</td>\n    </tr>\n  </tbody>\n</table>\n</div>"
     },
     "execution_count": 152,
     "metadata": {},
     "output_type": "execute_result"
    }
   ],
   "source": [
    "# horse data cleaning\n",
    "horse_data = pd.read_csv('../assets/all_horse_meta.csv')\n",
    "horse_data.columns\n",
    "horse_data = horse_data.rename(columns={'data.horse.bloodline':'bloodline', 'data.horse.breed_type':'breed_type',\n",
    "                           'data.horse.breeding_counter':'breeding_counter', 'data.horse.color':'horse_color',\n",
    "                           'data.horse.horse_type':'horse_type', 'data.horse.img_url':'img_url',\n",
    "                           'data.horse.last_breeding_reset':'last_breeding_reset', 'data.horse.name':'horse_name',\n",
    "                           'data.horse.nft_id':'nft_id', 'data_horse_offsprings':'offsprings',\n",
    "                           'data.horse.race_statistic.first_place_finishes':'first_place_finishes',\n",
    "                           'data.horse.race_statistic.number_of_races':'number_races',\n",
    "       'data.horse.race_statistic.second_place_finishes':'second_place_finishes',\n",
    "       'data.horse.race_statistic.third_place_finishes':'third_place_finishes',\n",
    "       'data.horse.race_statistic.win_rate':'win_rate'})\n",
    "horse_data = horse_data.drop(columns=['Unnamed: 0'])\n",
    "print(horse_data.nft_id)\n",
    "horse_data.head()"
   ],
   "metadata": {
    "collapsed": false
   }
  },
  {
   "cell_type": "code",
   "execution_count": 153,
   "outputs": [
    {
     "data": {
      "text/plain": "    bloodline breed_type  breeding_counter           horse_color  \\\n0     Buterin  exclusive                 3        Dark Byzantium   \n1     Buterin  exclusive                 3        Dark Byzantium   \n2    Nakamoto  exclusive                 3              Fandango   \n3      Finney  legendary                 3  Air Superiority Blue   \n4    Nakamoto  exclusive                 3     Battle Horse Gray   \n..        ...        ...               ...                   ...   \n151  Nakamoto    genesis                 0               Thistle   \n152  Nakamoto    genesis                 0               Thistle   \n153  Nakamoto  exclusive                 3            Misty Rose   \n154    Finney  exclusive                 3           Burnt Umber   \n155    Finney      elite                 1           Powder Blue   \n\n    data.horse.gen horse_type                                img_url  \\\n0              Z10   Stallion  https://img.zed.run/horses/5D3954.png   \n1              Z10   Stallion  https://img.zed.run/horses/5D3954.png   \n2               Z5       Colt  https://img.zed.run/horses/B53389.png   \n3               Z7   Stallion  https://img.zed.run/horses/72A0C1.png   \n4               Z6       Colt  https://img.zed.run/horses/848482.png   \n..             ...        ...                                    ...   \n151             Z2       Mare  https://img.zed.run/horses/D8BFD8.png   \n152             Z2       Mare  https://img.zed.run/horses/D8BFD8.png   \n153             Z7   Stallion  https://img.zed.run/horses/FFE4E1.png   \n154            Z16   Stallion  https://img.zed.run/horses/8A3324.png   \n155            Z22       Mare  https://img.zed.run/horses/B0E0E6.png   \n\n    data.horse.inserted_at   last_breeding_reset           horse_name  nft_id  \\\n0      2021-11-26T20:32:39  2022-12-23T20:28:07Z  Scrunter S Thompson  154936   \n1      2021-11-26T20:32:39  2022-12-23T20:28:07Z  Scrunter S Thompson  154936   \n2      2022-04-15T08:36:23  2022-12-23T08:31:54Z               Nakuza  393233   \n3      2021-10-17T06:37:21  2023-01-08T06:30:43Z    Glorified Liberty  131092   \n4      2021-10-17T06:37:43  2023-01-08T06:31:09Z    Glorified Ecstasy  131093   \n..                     ...                   ...                  ...     ...   \n151    2019-03-22T04:55:23  2022-12-23T04:55:12Z             Guardian     668   \n152    2019-03-22T04:55:23  2022-12-23T04:55:12Z             Guardian     668   \n153    2021-10-18T22:54:26  2023-01-09T22:49:54Z           Ripsnorter  131749   \n154    2021-10-18T23:28:47  2023-01-09T23:24:00Z     Walk In The Park  131767   \n155    2021-10-18T23:55:26  2023-01-09T23:50:50Z       Powder Chowder  131778   \n\n     first_place_finishes  number_races  second_place_finishes  \\\n0                      11           101                      7   \n1                      11           101                      7   \n2                       6           131                     15   \n3                       5            65                      7   \n4                      12           151                      9   \n..                    ...           ...                    ...   \n151                    88           589                     68   \n152                    88           589                     68   \n153                    17           309                     33   \n154                    22           204                     21   \n155                    70           695                     74   \n\n     third_place_finishes  win_rate  horse_id  time_sold  converted_price  \n0                      10     10.89    154936     464926         15.38760  \n1                      10     10.89    154936     463789         11.69660  \n2                      12      4.58    393233     460256         34.63614  \n3                       8      7.69    131092     460471         42.42640  \n4                      15      7.95    131093     461771         46.86210  \n..                    ...       ...       ...        ...              ...  \n151                    58     14.94       668     462635       6415.40000  \n152                    58     14.94       668     463797       5284.62000  \n153                    30      5.50    131749     458982        117.96590  \n154                    22     10.78    131767     459321         36.64100  \n155                    62     10.07    131778     458168        147.89565  \n\n[156 rows x 19 columns]",
      "text/html": "<div>\n<style scoped>\n    .dataframe tbody tr th:only-of-type {\n        vertical-align: middle;\n    }\n\n    .dataframe tbody tr th {\n        vertical-align: top;\n    }\n\n    .dataframe thead th {\n        text-align: right;\n    }\n</style>\n<table border=\"1\" class=\"dataframe\">\n  <thead>\n    <tr style=\"text-align: right;\">\n      <th></th>\n      <th>bloodline</th>\n      <th>breed_type</th>\n      <th>breeding_counter</th>\n      <th>horse_color</th>\n      <th>data.horse.gen</th>\n      <th>horse_type</th>\n      <th>img_url</th>\n      <th>data.horse.inserted_at</th>\n      <th>last_breeding_reset</th>\n      <th>horse_name</th>\n      <th>nft_id</th>\n      <th>first_place_finishes</th>\n      <th>number_races</th>\n      <th>second_place_finishes</th>\n      <th>third_place_finishes</th>\n      <th>win_rate</th>\n      <th>horse_id</th>\n      <th>time_sold</th>\n      <th>converted_price</th>\n    </tr>\n  </thead>\n  <tbody>\n    <tr>\n      <th>0</th>\n      <td>Buterin</td>\n      <td>exclusive</td>\n      <td>3</td>\n      <td>Dark Byzantium</td>\n      <td>Z10</td>\n      <td>Stallion</td>\n      <td>https://img.zed.run/horses/5D3954.png</td>\n      <td>2021-11-26T20:32:39</td>\n      <td>2022-12-23T20:28:07Z</td>\n      <td>Scrunter S Thompson</td>\n      <td>154936</td>\n      <td>11</td>\n      <td>101</td>\n      <td>7</td>\n      <td>10</td>\n      <td>10.89</td>\n      <td>154936</td>\n      <td>464926</td>\n      <td>15.38760</td>\n    </tr>\n    <tr>\n      <th>1</th>\n      <td>Buterin</td>\n      <td>exclusive</td>\n      <td>3</td>\n      <td>Dark Byzantium</td>\n      <td>Z10</td>\n      <td>Stallion</td>\n      <td>https://img.zed.run/horses/5D3954.png</td>\n      <td>2021-11-26T20:32:39</td>\n      <td>2022-12-23T20:28:07Z</td>\n      <td>Scrunter S Thompson</td>\n      <td>154936</td>\n      <td>11</td>\n      <td>101</td>\n      <td>7</td>\n      <td>10</td>\n      <td>10.89</td>\n      <td>154936</td>\n      <td>463789</td>\n      <td>11.69660</td>\n    </tr>\n    <tr>\n      <th>2</th>\n      <td>Nakamoto</td>\n      <td>exclusive</td>\n      <td>3</td>\n      <td>Fandango</td>\n      <td>Z5</td>\n      <td>Colt</td>\n      <td>https://img.zed.run/horses/B53389.png</td>\n      <td>2022-04-15T08:36:23</td>\n      <td>2022-12-23T08:31:54Z</td>\n      <td>Nakuza</td>\n      <td>393233</td>\n      <td>6</td>\n      <td>131</td>\n      <td>15</td>\n      <td>12</td>\n      <td>4.58</td>\n      <td>393233</td>\n      <td>460256</td>\n      <td>34.63614</td>\n    </tr>\n    <tr>\n      <th>3</th>\n      <td>Finney</td>\n      <td>legendary</td>\n      <td>3</td>\n      <td>Air Superiority Blue</td>\n      <td>Z7</td>\n      <td>Stallion</td>\n      <td>https://img.zed.run/horses/72A0C1.png</td>\n      <td>2021-10-17T06:37:21</td>\n      <td>2023-01-08T06:30:43Z</td>\n      <td>Glorified Liberty</td>\n      <td>131092</td>\n      <td>5</td>\n      <td>65</td>\n      <td>7</td>\n      <td>8</td>\n      <td>7.69</td>\n      <td>131092</td>\n      <td>460471</td>\n      <td>42.42640</td>\n    </tr>\n    <tr>\n      <th>4</th>\n      <td>Nakamoto</td>\n      <td>exclusive</td>\n      <td>3</td>\n      <td>Battle Horse Gray</td>\n      <td>Z6</td>\n      <td>Colt</td>\n      <td>https://img.zed.run/horses/848482.png</td>\n      <td>2021-10-17T06:37:43</td>\n      <td>2023-01-08T06:31:09Z</td>\n      <td>Glorified Ecstasy</td>\n      <td>131093</td>\n      <td>12</td>\n      <td>151</td>\n      <td>9</td>\n      <td>15</td>\n      <td>7.95</td>\n      <td>131093</td>\n      <td>461771</td>\n      <td>46.86210</td>\n    </tr>\n    <tr>\n      <th>...</th>\n      <td>...</td>\n      <td>...</td>\n      <td>...</td>\n      <td>...</td>\n      <td>...</td>\n      <td>...</td>\n      <td>...</td>\n      <td>...</td>\n      <td>...</td>\n      <td>...</td>\n      <td>...</td>\n      <td>...</td>\n      <td>...</td>\n      <td>...</td>\n      <td>...</td>\n      <td>...</td>\n      <td>...</td>\n      <td>...</td>\n      <td>...</td>\n    </tr>\n    <tr>\n      <th>151</th>\n      <td>Nakamoto</td>\n      <td>genesis</td>\n      <td>0</td>\n      <td>Thistle</td>\n      <td>Z2</td>\n      <td>Mare</td>\n      <td>https://img.zed.run/horses/D8BFD8.png</td>\n      <td>2019-03-22T04:55:23</td>\n      <td>2022-12-23T04:55:12Z</td>\n      <td>Guardian</td>\n      <td>668</td>\n      <td>88</td>\n      <td>589</td>\n      <td>68</td>\n      <td>58</td>\n      <td>14.94</td>\n      <td>668</td>\n      <td>462635</td>\n      <td>6415.40000</td>\n    </tr>\n    <tr>\n      <th>152</th>\n      <td>Nakamoto</td>\n      <td>genesis</td>\n      <td>0</td>\n      <td>Thistle</td>\n      <td>Z2</td>\n      <td>Mare</td>\n      <td>https://img.zed.run/horses/D8BFD8.png</td>\n      <td>2019-03-22T04:55:23</td>\n      <td>2022-12-23T04:55:12Z</td>\n      <td>Guardian</td>\n      <td>668</td>\n      <td>88</td>\n      <td>589</td>\n      <td>68</td>\n      <td>58</td>\n      <td>14.94</td>\n      <td>668</td>\n      <td>463797</td>\n      <td>5284.62000</td>\n    </tr>\n    <tr>\n      <th>153</th>\n      <td>Nakamoto</td>\n      <td>exclusive</td>\n      <td>3</td>\n      <td>Misty Rose</td>\n      <td>Z7</td>\n      <td>Stallion</td>\n      <td>https://img.zed.run/horses/FFE4E1.png</td>\n      <td>2021-10-18T22:54:26</td>\n      <td>2023-01-09T22:49:54Z</td>\n      <td>Ripsnorter</td>\n      <td>131749</td>\n      <td>17</td>\n      <td>309</td>\n      <td>33</td>\n      <td>30</td>\n      <td>5.50</td>\n      <td>131749</td>\n      <td>458982</td>\n      <td>117.96590</td>\n    </tr>\n    <tr>\n      <th>154</th>\n      <td>Finney</td>\n      <td>exclusive</td>\n      <td>3</td>\n      <td>Burnt Umber</td>\n      <td>Z16</td>\n      <td>Stallion</td>\n      <td>https://img.zed.run/horses/8A3324.png</td>\n      <td>2021-10-18T23:28:47</td>\n      <td>2023-01-09T23:24:00Z</td>\n      <td>Walk In The Park</td>\n      <td>131767</td>\n      <td>22</td>\n      <td>204</td>\n      <td>21</td>\n      <td>22</td>\n      <td>10.78</td>\n      <td>131767</td>\n      <td>459321</td>\n      <td>36.64100</td>\n    </tr>\n    <tr>\n      <th>155</th>\n      <td>Finney</td>\n      <td>elite</td>\n      <td>1</td>\n      <td>Powder Blue</td>\n      <td>Z22</td>\n      <td>Mare</td>\n      <td>https://img.zed.run/horses/B0E0E6.png</td>\n      <td>2021-10-18T23:55:26</td>\n      <td>2023-01-09T23:50:50Z</td>\n      <td>Powder Chowder</td>\n      <td>131778</td>\n      <td>70</td>\n      <td>695</td>\n      <td>74</td>\n      <td>62</td>\n      <td>10.07</td>\n      <td>131778</td>\n      <td>458168</td>\n      <td>147.89565</td>\n    </tr>\n  </tbody>\n</table>\n<p>156 rows × 19 columns</p>\n</div>"
     },
     "execution_count": 153,
     "metadata": {},
     "output_type": "execute_result"
    }
   ],
   "source": [
    "# code to merge horse data with sales data\n",
    "test_merge = pd.merge(horse_data,clean_market_data, right_on='horse_id', left_on='nft_id', how='left')\n",
    "test_merge"
   ],
   "metadata": {
    "collapsed": false
   }
  },
  {
   "cell_type": "markdown",
   "source": [
    "## Exploratory Data Analysis"
   ],
   "metadata": {
    "collapsed": false
   }
  },
  {
   "cell_type": "code",
   "execution_count": null,
   "outputs": [],
   "source": [],
   "metadata": {
    "collapsed": false
   }
  }
 ],
 "metadata": {
  "kernelspec": {
   "display_name": "Python 3",
   "language": "python",
   "name": "python3"
  },
  "language_info": {
   "codemirror_mode": {
    "name": "ipython",
    "version": 2
   },
   "file_extension": ".py",
   "mimetype": "text/x-python",
   "name": "python",
   "nbconvert_exporter": "python",
   "pygments_lexer": "ipython2",
   "version": "2.7.6"
  }
 },
 "nbformat": 4,
 "nbformat_minor": 0
}

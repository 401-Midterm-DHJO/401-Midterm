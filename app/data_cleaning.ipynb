{
 "cells": [
  {
   "cell_type": "code",
   "execution_count": 67,
   "metadata": {
    "collapsed": true
   },
   "outputs": [],
   "source": [
    "import pandas as pd\n",
    "import numpy as np\n",
    "import matplotlib.pyplot as plt"
   ]
  },
  {
   "cell_type": "code",
   "execution_count": 68,
   "outputs": [],
   "source": [
    "def to_hours(time):\n",
    "    return (time // 3600) + 6\n",
    "\n",
    "def clean_sales_data():\n",
    "    df = pd.read_csv(\"../assets/example_data/sales_data.csv\")\n",
    "    sales_df = df[['token_id', 'sold_at', 'price']]\n",
    "    sales_df = sales_df.rename(columns={'token_id': 'horse_id', 'sold_at': 'time_sold'}).sort_values('horse_id').reset_index(drop=True)\n",
    "    sales_df['time_sold'] = sales_df['time_sold'].apply(to_hours)\n",
    "\n",
    "    return sales_df"
   ],
   "metadata": {
    "collapsed": false
   }
  },
  {
   "cell_type": "markdown",
   "source": [],
   "metadata": {
    "collapsed": false
   }
  },
  {
   "cell_type": "code",
   "execution_count": 69,
   "outputs": [],
   "source": [
    "sales_data = clean_sales_data()"
   ],
   "metadata": {
    "collapsed": false
   }
  },
  {
   "cell_type": "code",
   "execution_count": 75,
   "outputs": [
    {
     "data": {
      "text/plain": "<AxesSubplot: >"
     },
     "execution_count": 75,
     "metadata": {},
     "output_type": "execute_result"
    },
    {
     "data": {
      "text/plain": "<Figure size 640x480 with 1 Axes>",
      "image/png": "[encoded data removed]"
     },
     "metadata": {},
     "output_type": "display_data"
    }
   ],
   "source": [
    "sales_data['price'].hist()"
   ],
   "metadata": {
    "collapsed": false
   }
  },
  {
   "cell_type": "code",
   "execution_count": 71,
   "outputs": [
    {
     "data": {
      "text/plain": "      Unnamed: 0  timestamp  eth_price\n9091        9091     464923    1533.01\n9092        9092     464924    1529.65\n9093        9093     464925    1535.38\n9094        9094     464926    1538.76\n9095        9095     464927    1550.97",
      "text/html": "<div>\n<style scoped>\n    .dataframe tbody tr th:only-of-type {\n        vertical-align: middle;\n    }\n\n    .dataframe tbody tr th {\n        vertical-align: top;\n    }\n\n    .dataframe thead th {\n        text-align: right;\n    }\n</style>\n<table border=\"1\" class=\"dataframe\">\n  <thead>\n    <tr style=\"text-align: right;\">\n      <th></th>\n      <th>Unnamed: 0</th>\n      <th>timestamp</th>\n      <th>eth_price</th>\n    </tr>\n  </thead>\n  <tbody>\n    <tr>\n      <th>9091</th>\n      <td>9091</td>\n      <td>464923</td>\n      <td>1533.01</td>\n    </tr>\n    <tr>\n      <th>9092</th>\n      <td>9092</td>\n      <td>464924</td>\n      <td>1529.65</td>\n    </tr>\n    <tr>\n      <th>9093</th>\n      <td>9093</td>\n      <td>464925</td>\n      <td>1535.38</td>\n    </tr>\n    <tr>\n      <th>9094</th>\n      <td>9094</td>\n      <td>464926</td>\n      <td>1538.76</td>\n    </tr>\n    <tr>\n      <th>9095</th>\n      <td>9095</td>\n      <td>464927</td>\n      <td>1550.97</td>\n    </tr>\n  </tbody>\n</table>\n</div>"
     },
     "execution_count": 71,
     "metadata": {},
     "output_type": "execute_result"
    }
   ],
   "source": [
    "eth_prices = pd.read_csv('../assets/eth_price_history.csv')\n",
    "eth_prices.tail()"
   ],
   "metadata": {
    "collapsed": false
   }
  },
  {
   "cell_type": "code",
   "execution_count": 72,
   "outputs": [
    {
     "data": {
      "text/plain": "       horse_id  time_sold  price  Unnamed: 0  timestamp  eth_price\n74906    520344     464862   0.10        9030     464862    1394.92\n74907    520345     464871   0.10        9039     464871    1380.79\n74908    520346     464863   0.10        9031     464863    1398.84\n74909    520404     464901   0.35        9069     464901    1426.96\n74910    520481     464905   0.35        9073     464905    1540.90",
      "text/html": "<div>\n<style scoped>\n    .dataframe tbody tr th:only-of-type {\n        vertical-align: middle;\n    }\n\n    .dataframe tbody tr th {\n        vertical-align: top;\n    }\n\n    .dataframe thead th {\n        text-align: right;\n    }\n</style>\n<table border=\"1\" class=\"dataframe\">\n  <thead>\n    <tr style=\"text-align: right;\">\n      <th></th>\n      <th>horse_id</th>\n      <th>time_sold</th>\n      <th>price</th>\n      <th>Unnamed: 0</th>\n      <th>timestamp</th>\n      <th>eth_price</th>\n    </tr>\n  </thead>\n  <tbody>\n    <tr>\n      <th>74906</th>\n      <td>520344</td>\n      <td>464862</td>\n      <td>0.10</td>\n      <td>9030</td>\n      <td>464862</td>\n      <td>1394.92</td>\n    </tr>\n    <tr>\n      <th>74907</th>\n      <td>520345</td>\n      <td>464871</td>\n      <td>0.10</td>\n      <td>9039</td>\n      <td>464871</td>\n      <td>1380.79</td>\n    </tr>\n    <tr>\n      <th>74908</th>\n      <td>520346</td>\n      <td>464863</td>\n      <td>0.10</td>\n      <td>9031</td>\n      <td>464863</td>\n      <td>1398.84</td>\n    </tr>\n    <tr>\n      <th>74909</th>\n      <td>520404</td>\n      <td>464901</td>\n      <td>0.35</td>\n      <td>9069</td>\n      <td>464901</td>\n      <td>1426.96</td>\n    </tr>\n    <tr>\n      <th>74910</th>\n      <td>520481</td>\n      <td>464905</td>\n      <td>0.35</td>\n      <td>9073</td>\n      <td>464905</td>\n      <td>1540.90</td>\n    </tr>\n  </tbody>\n</table>\n</div>"
     },
     "execution_count": 72,
     "metadata": {},
     "output_type": "execute_result"
    }
   ],
   "source": [
    "merged = pd.merge(sales_data, eth_prices, left_on='time_sold', right_on='timestamp', how='left')\n",
    "merged.tail()"
   ],
   "metadata": {
    "collapsed": false
   }
  },
  {
   "cell_type": "code",
   "execution_count": 72,
   "outputs": [],
   "source": [],
   "metadata": {
    "collapsed": false
   }
  }
 ],
 "metadata": {
  "kernelspec": {
   "display_name": "Python 3",
   "language": "python",
   "name": "python3"
  },
  "language_info": {
   "codemirror_mode": {
    "name": "ipython",
    "version": 2
   },
   "file_extension": ".py",
   "mimetype": "text/x-python",
   "name": "python",
   "nbconvert_exporter": "python",
   "pygments_lexer": "ipython2",
   "version": "2.7.6"
  }
 },
 "nbformat": 4,
 "nbformat_minor": 0
}

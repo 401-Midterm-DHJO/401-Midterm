{
 "cells": [
  {
   "cell_type": "code",
   "execution_count": 94,
   "outputs": [],
   "source": [
    "# pip install hvplot\n",
    "# pip install jupyterlab\n",
    "# OUTSIDE OF VENV - pip3 install panel\n",
    "\n",
    "# To launch notebook: Inside virtual envirnment -> jupyter lab\n",
    "\n",
    "# To launch dashboard: From webpage -> Open new tab and choose bottom-left option \"Terminal\" -> make sure you're in the root folder -> type \"panel serve app/dashboard_notebook.ipynb\" and copy and paste resulting URL into browser\n",
    "\n",
    "import ssl\n",
    "import pandas as pd\n",
    "import numpy as np\n",
    "import panel as pn\n",
    "import holoviews as hv\n",
    "pn.extension('tabulator')\n",
    "\n",
    "import hvplot.pandas\n",
    "import panel.template.theme\n"
   ],
   "metadata": {
    "collapsed": false
   }
  },
  {
   "cell_type": "code",
   "execution_count": 95,
   "id": "bbfef21b-f2f8-4647-841f-2717d8fc222c",
   "metadata": {},
   "outputs": [],
   "source": [
    "# Handle SSL Issues\n",
    "try:\n",
    "    _create_unverified_https_context = ssl._create_unverified_context\n",
    "except AttributeError:\n",
    "    pass\n",
    "else:\n",
    "    ssl._create_default_https_context = _create_unverified_https_context\n"
   ]
  },
  {
   "cell_type": "code",
   "execution_count": 96,
   "id": "5932fad9-ad0c-4a93-a536-18ebc897e1a2",
   "metadata": {},
   "outputs": [
    {
     "data": {
      "text/plain": "      Unnamed: 0 data.horse.bloodline data.horse.breed_type  data.horse.color  \\\n0              0              Buterin               genesis  Anti-Flash White   \n1              0              Buterin               genesis    Shadow Fighter   \n2              0              Buterin                 pacer   Caribbean Green   \n3              0              Buterin                 pacer       Ghost White   \n4              0              Buterin                 pacer     Antique White   \n...          ...                  ...                   ...               ...   \n6422           0               Finney                 cross          Amethyst   \n6423           0               Finney             exclusive       Suave Mauve   \n6424           0               Finney             exclusive       Desert Sand   \n6425           0               Finney             legendary       Suave Mauve   \n6426           0               Finney                 cross   Caribbean Green   \n\n     data.horse.gen data.horse.horse_type  \\\n0                Z9                  Mare   \n1                Z9                  Mare   \n2              Z268                  Colt   \n3              Z268              Stallion   \n4              Z268                 Filly   \n...             ...                   ...   \n6422            Z33              Stallion   \n6423            Z15                  Colt   \n6424            Z18              Stallion   \n6425            Z12              Stallion   \n6426            Z15                  Mare   \n\n                         data.horse.img_url data.horse.inserted_at  \\\n0     https://img.zed.run/horses/F2F3F4.png    2021-07-09T15:47:37   \n1     https://img.zed.run/horses/BFAFB2.png    2021-07-09T15:47:35   \n2     https://img.zed.run/horses/00CC99.png    2022-06-29T07:32:05   \n3     https://img.zed.run/horses/FFFFFF.png    2022-06-29T07:34:16   \n4     https://img.zed.run/horses/FAEBD7.png    2022-06-29T07:35:25   \n...                                     ...                    ...   \n6422  https://img.zed.run/horses/9966CC.png    2022-07-24T18:31:29   \n6423  https://img.zed.run/horses/D473D4.png    2022-07-24T18:33:39   \n6424  https://img.zed.run/horses/EDC9AF.png    2022-07-24T18:34:21   \n6425  https://img.zed.run/horses/D473D4.png    2021-07-21T20:54:05   \n6426  https://img.zed.run/horses/00CC99.png    2022-07-24T18:43:17   \n\n           data.horse.name  data.horse.nft_id  ...  \\\n0             Sneaky Flirt              42102  ...   \n1          Master Of Irony              42104  ...   \n2               King Casen             435320  ...   \n3                King Crew             435325  ...   \n4             Queen Iliana             435326  ...   \n...                    ...                ...  ...   \n6422    Crossing the River             450637  ...   \n6423          Too Hungover             450639  ...   \n6424         26 Characters             450640  ...   \n6425      Helicopter Money              57425  ...   \n6426  Caribbean Investment             450646  ...   \n\n     data.horse.race_statistic.first_place_finishes  \\\n0                                                 8   \n1                                                17   \n2                                                 0   \n3                                                 0   \n4                                                 0   \n...                                             ...   \n6422                                              4   \n6423                                             15   \n6424                                             13   \n6425                                            141   \n6426                                              9   \n\n      data.horse.race_statistic.free_win_rate  \\\n0                                        4.60   \n1                                        5.03   \n2                                        0.00   \n3                                        0.00   \n4                                        0.00   \n...                                       ...   \n6422                                     7.69   \n6423                                    16.28   \n6424                                    10.57   \n6425                                    12.56   \n6426                                    12.90   \n\n      data.horse.race_statistic.number_of_free_races  \\\n0                                                174   \n1                                                318   \n2                                                 12   \n3                                                  7   \n4                                                 20   \n...                                              ...   \n6422                                              52   \n6423                                              86   \n6424                                             123   \n6425                                             406   \n6426                                              62   \n\n      data.horse.race_statistic.number_of_paid_races  \\\n0                                                 53   \n1                                                 20   \n2                                                  0   \n3                                                  0   \n4                                                  0   \n...                                              ...   \n6422                                               0   \n6423                                              43   \n6424                                               4   \n6425                                             732   \n6426                                              19   \n\n      data.horse.race_statistic.number_of_races  \\\n0                                           227   \n1                                           338   \n2                                            12   \n3                                             7   \n4                                            20   \n...                                         ...   \n6422                                         52   \n6423                                        129   \n6424                                        127   \n6425                                       1138   \n6426                                         81   \n\n      data.horse.race_statistic.paid_win_rate  \\\n0                                        0.00   \n1                                        5.00   \n2                                        0.00   \n3                                        0.00   \n4                                        0.00   \n...                                       ...   \n6422                                     0.00   \n6423                                     2.33   \n6424                                     0.00   \n6425                                    12.30   \n6426                                     5.26   \n\n      data.horse.race_statistic.second_place_finishes  \\\n0                                                  15   \n1                                                  25   \n2                                                   0   \n3                                                   0   \n4                                                   0   \n...                                               ...   \n6422                                                6   \n6423                                               10   \n6424                                               10   \n6425                                              101   \n6426                                                4   \n\n      data.horse.race_statistic.third_place_finishes  \\\n0                                                 16   \n1                                                 35   \n2                                                  0   \n3                                                  0   \n4                                                  1   \n...                                              ...   \n6422                                               4   \n6423                                              11   \n6424                                               6   \n6425                                              81   \n6426                                              12   \n\n      data.horse.race_statistic.win_rate  data.horse.super_coat  \n0                                   3.52                  False  \n1                                   5.03                  False  \n2                                   0.00                  False  \n3                                   0.00                  False  \n4                                   0.00                  False  \n...                                  ...                    ...  \n6422                                7.69                  False  \n6423                               11.63                  False  \n6424                               10.24                  False  \n6425                               12.39                  False  \n6426                               11.11                  False  \n\n[6427 rows x 21 columns]",
      "text/html": "<div>\n<style scoped>\n    .dataframe tbody tr th:only-of-type {\n        vertical-align: middle;\n    }\n\n    .dataframe tbody tr th {\n        vertical-align: top;\n    }\n\n    .dataframe thead th {\n        text-align: right;\n    }\n</style>\n<table border=\"1\" class=\"dataframe\">\n  <thead>\n    <tr style=\"text-align: right;\">\n      <th></th>\n      <th>Unnamed: 0</th>\n      <th>data.horse.bloodline</th>\n      <th>data.horse.breed_type</th>\n      <th>data.horse.color</th>\n      <th>data.horse.gen</th>\n      <th>data.horse.horse_type</th>\n      <th>data.horse.img_url</th>\n      <th>data.horse.inserted_at</th>\n      <th>data.horse.name</th>\n      <th>data.horse.nft_id</th>\n      <th>...</th>\n      <th>data.horse.race_statistic.first_place_finishes</th>\n      <th>data.horse.race_statistic.free_win_rate</th>\n      <th>data.horse.race_statistic.number_of_free_races</th>\n      <th>data.horse.race_statistic.number_of_paid_races</th>\n      <th>data.horse.race_statistic.number_of_races</th>\n      <th>data.horse.race_statistic.paid_win_rate</th>\n      <th>data.horse.race_statistic.second_place_finishes</th>\n      <th>data.horse.race_statistic.third_place_finishes</th>\n      <th>data.horse.race_statistic.win_rate</th>\n      <th>data.horse.super_coat</th>\n    </tr>\n  </thead>\n  <tbody>\n    <tr>\n      <th>0</th>\n      <td>0</td>\n      <td>Buterin</td>\n      <td>genesis</td>\n      <td>Anti-Flash White</td>\n      <td>Z9</td>\n      <td>Mare</td>\n      <td>https://img.zed.run/horses/F2F3F4.png</td>\n      <td>2021-07-09T15:47:37</td>\n      <td>Sneaky Flirt</td>\n      <td>42102</td>\n      <td>...</td>\n      <td>8</td>\n      <td>4.60</td>\n      <td>174</td>\n      <td>53</td>\n      <td>227</td>\n      <td>0.00</td>\n      <td>15</td>\n      <td>16</td>\n      <td>3.52</td>\n      <td>False</td>\n    </tr>\n    <tr>\n      <th>1</th>\n      <td>0</td>\n      <td>Buterin</td>\n      <td>genesis</td>\n      <td>Shadow Fighter</td>\n      <td>Z9</td>\n      <td>Mare</td>\n      <td>https://img.zed.run/horses/BFAFB2.png</td>\n      <td>2021-07-09T15:47:35</td>\n      <td>Master Of Irony</td>\n      <td>42104</td>\n      <td>...</td>\n      <td>17</td>\n      <td>5.03</td>\n      <td>318</td>\n      <td>20</td>\n      <td>338</td>\n      <td>5.00</td>\n      <td>25</td>\n      <td>35</td>\n      <td>5.03</td>\n      <td>False</td>\n    </tr>\n    <tr>\n      <th>2</th>\n      <td>0</td>\n      <td>Buterin</td>\n      <td>pacer</td>\n      <td>Caribbean Green</td>\n      <td>Z268</td>\n      <td>Colt</td>\n      <td>https://img.zed.run/horses/00CC99.png</td>\n      <td>2022-06-29T07:32:05</td>\n      <td>King Casen</td>\n      <td>435320</td>\n      <td>...</td>\n      <td>0</td>\n      <td>0.00</td>\n      <td>12</td>\n      <td>0</td>\n      <td>12</td>\n      <td>0.00</td>\n      <td>0</td>\n      <td>0</td>\n      <td>0.00</td>\n      <td>False</td>\n    </tr>\n    <tr>\n      <th>3</th>\n      <td>0</td>\n      <td>Buterin</td>\n      <td>pacer</td>\n      <td>Ghost White</td>\n      <td>Z268</td>\n      <td>Stallion</td>\n      <td>https://img.zed.run/horses/FFFFFF.png</td>\n      <td>2022-06-29T07:34:16</td>\n      <td>King Crew</td>\n      <td>435325</td>\n      <td>...</td>\n      <td>0</td>\n      <td>0.00</td>\n      <td>7</td>\n      <td>0</td>\n      <td>7</td>\n      <td>0.00</td>\n      <td>0</td>\n      <td>0</td>\n      <td>0.00</td>\n      <td>False</td>\n    </tr>\n    <tr>\n      <th>4</th>\n      <td>0</td>\n      <td>Buterin</td>\n      <td>pacer</td>\n      <td>Antique White</td>\n      <td>Z268</td>\n      <td>Filly</td>\n      <td>https://img.zed.run/horses/FAEBD7.png</td>\n      <td>2022-06-29T07:35:25</td>\n      <td>Queen Iliana</td>\n      <td>435326</td>\n      <td>...</td>\n      <td>0</td>\n      <td>0.00</td>\n      <td>20</td>\n      <td>0</td>\n      <td>20</td>\n      <td>0.00</td>\n      <td>0</td>\n      <td>1</td>\n      <td>0.00</td>\n      <td>False</td>\n    </tr>\n    <tr>\n      <th>...</th>\n      <td>...</td>\n      <td>...</td>\n      <td>...</td>\n      <td>...</td>\n      <td>...</td>\n      <td>...</td>\n      <td>...</td>\n      <td>...</td>\n      <td>...</td>\n      <td>...</td>\n      <td>...</td>\n      <td>...</td>\n      <td>...</td>\n      <td>...</td>\n      <td>...</td>\n      <td>...</td>\n      <td>...</td>\n      <td>...</td>\n      <td>...</td>\n      <td>...</td>\n      <td>...</td>\n    </tr>\n    <tr>\n      <th>6422</th>\n      <td>0</td>\n      <td>Finney</td>\n      <td>cross</td>\n      <td>Amethyst</td>\n      <td>Z33</td>\n      <td>Stallion</td>\n      <td>https://img.zed.run/horses/9966CC.png</td>\n      <td>2022-07-24T18:31:29</td>\n      <td>Crossing the River</td>\n      <td>450637</td>\n      <td>...</td>\n      <td>4</td>\n      <td>7.69</td>\n      <td>52</td>\n      <td>0</td>\n      <td>52</td>\n      <td>0.00</td>\n      <td>6</td>\n      <td>4</td>\n      <td>7.69</td>\n      <td>False</td>\n    </tr>\n    <tr>\n      <th>6423</th>\n      <td>0</td>\n      <td>Finney</td>\n      <td>exclusive</td>\n      <td>Suave Mauve</td>\n      <td>Z15</td>\n      <td>Colt</td>\n      <td>https://img.zed.run/horses/D473D4.png</td>\n      <td>2022-07-24T18:33:39</td>\n      <td>Too Hungover</td>\n      <td>450639</td>\n      <td>...</td>\n      <td>15</td>\n      <td>16.28</td>\n      <td>86</td>\n      <td>43</td>\n      <td>129</td>\n      <td>2.33</td>\n      <td>10</td>\n      <td>11</td>\n      <td>11.63</td>\n      <td>False</td>\n    </tr>\n    <tr>\n      <th>6424</th>\n      <td>0</td>\n      <td>Finney</td>\n      <td>exclusive</td>\n      <td>Desert Sand</td>\n      <td>Z18</td>\n      <td>Stallion</td>\n      <td>https://img.zed.run/horses/EDC9AF.png</td>\n      <td>2022-07-24T18:34:21</td>\n      <td>26 Characters</td>\n      <td>450640</td>\n      <td>...</td>\n      <td>13</td>\n      <td>10.57</td>\n      <td>123</td>\n      <td>4</td>\n      <td>127</td>\n      <td>0.00</td>\n      <td>10</td>\n      <td>6</td>\n      <td>10.24</td>\n      <td>False</td>\n    </tr>\n    <tr>\n      <th>6425</th>\n      <td>0</td>\n      <td>Finney</td>\n      <td>legendary</td>\n      <td>Suave Mauve</td>\n      <td>Z12</td>\n      <td>Stallion</td>\n      <td>https://img.zed.run/horses/D473D4.png</td>\n      <td>2021-07-21T20:54:05</td>\n      <td>Helicopter Money</td>\n      <td>57425</td>\n      <td>...</td>\n      <td>141</td>\n      <td>12.56</td>\n      <td>406</td>\n      <td>732</td>\n      <td>1138</td>\n      <td>12.30</td>\n      <td>101</td>\n      <td>81</td>\n      <td>12.39</td>\n      <td>False</td>\n    </tr>\n    <tr>\n      <th>6426</th>\n      <td>0</td>\n      <td>Finney</td>\n      <td>cross</td>\n      <td>Caribbean Green</td>\n      <td>Z15</td>\n      <td>Mare</td>\n      <td>https://img.zed.run/horses/00CC99.png</td>\n      <td>2022-07-24T18:43:17</td>\n      <td>Caribbean Investment</td>\n      <td>450646</td>\n      <td>...</td>\n      <td>9</td>\n      <td>12.90</td>\n      <td>62</td>\n      <td>19</td>\n      <td>81</td>\n      <td>5.26</td>\n      <td>4</td>\n      <td>12</td>\n      <td>11.11</td>\n      <td>False</td>\n    </tr>\n  </tbody>\n</table>\n<p>6427 rows × 21 columns</p>\n</div>"
     },
     "execution_count": 96,
     "metadata": {},
     "output_type": "execute_result"
    }
   ],
   "source": [
    "df = pd.read_csv(\"https://raw.githubusercontent.com/ThoroughZed-Analytics/Thoroughzed/dev/data/master_data/all_horse_meta_oliver_6k.csv\")\n",
    "df"
   ]
  },
  {
   "cell_type": "code",
   "execution_count": 97,
   "id": "88e69a3a-55dd-4339-90a0-d08a45ed8f86",
   "metadata": {},
   "outputs": [
    {
     "data": {
      "text/plain": "       Unnamed: 0_x                                    currency     price  \\\n0                 0  0x7ceb23fd6bc0add59e62ac25578270cff1b9f619  0.010000   \n1                 1  0x7ceb23fd6bc0add59e62ac25578270cff1b9f619  0.010000   \n2                 2  0x7ceb23fd6bc0add59e62ac25578270cff1b9f619  0.036450   \n3                 3  0x7ceb23fd6bc0add59e62ac25578270cff1b9f619  0.015000   \n4                 4  0x7ceb23fd6bc0add59e62ac25578270cff1b9f619  0.035000   \n...             ...                                         ...       ...   \n74888         74888  0x7ceb23fd6bc0add59e62ac25578270cff1b9f619  0.002300   \n74889         74889  0x7ceb23fd6bc0add59e62ac25578270cff1b9f619  0.001234   \n74890         74890  0x7ceb23fd6bc0add59e62ac25578270cff1b9f619  0.001234   \n74891         74891  0x7ceb23fd6bc0add59e62ac25578270cff1b9f619  0.001234   \n74892         74892  0x7ceb23fd6bc0add59e62ac25578270cff1b9f619  0.001234   \n\n          sold_at  horse_id genotype bloodline breed_type           color  \\\n0      1673715139    154936      Z10   Buterin  exclusive  Dark Byzantium   \n1      1669619149    154936      Z10   Buterin  exclusive  Dark Byzantium   \n2      1673715005     67201      Z17   Buterin  legendary      China Rose   \n3      1649393858     67201      Z17   Buterin  legendary      China Rose   \n4      1647841099     67201      Z17   Buterin  legendary      China Rose   \n...           ...       ...      ...       ...        ...             ...   \n74888  1645684909    215153       Z9    Finney  exclusive      Bondi Blue   \n74889  1645655356    200381      Z22   Buterin  exclusive      Cadet Blue   \n74890  1645654068    200381      Z22   Buterin  exclusive      Cadet Blue   \n74891  1645634560    200381      Z22   Buterin  exclusive      Cadet Blue   \n74892  1645634560    200381      Z22   Buterin  exclusive      Cadet Blue   \n\n                  birthday  ...  Unnamed: 0_y  free_win_rate  paid_win_rate  \\\n0      2021-11-26T20:28:07  ...           0.0            0.0            0.0   \n1      2021-11-26T20:28:07  ...           0.0            0.0            0.0   \n2      2021-07-31T21:58:35  ...           0.0            0.0            0.0   \n3      2021-07-31T21:58:35  ...           0.0            0.0            0.0   \n4      2021-07-31T21:58:35  ...           0.0            0.0            0.0   \n...                    ...  ...           ...            ...            ...   \n74888  2022-02-19T00:16:23  ...           0.0            0.0            0.0   \n74889  2022-01-28T06:40:28  ...           0.0            0.0            0.0   \n74890  2022-01-28T06:40:28  ...           0.0            0.0            0.0   \n74891  2022-01-28T06:40:28  ...           0.0            0.0            0.0   \n74892  2022-01-28T06:40:28  ...           0.0            0.0            0.0   \n\n      place  total_paid  win_rate  overall.first  overall.races  \\\n0       0.0         0.0       0.0            0.0            0.0   \n1       0.0         0.0       0.0            0.0            0.0   \n2       0.0         0.0       0.0            0.0            0.0   \n3       0.0         0.0       0.0            0.0            0.0   \n4       0.0         0.0       0.0            0.0            0.0   \n...     ...         ...       ...            ...            ...   \n74888   0.0         0.0       0.0            0.0            0.0   \n74889   0.0         0.0       0.0            0.0            0.0   \n74890   0.0         0.0       0.0            0.0            0.0   \n74891   0.0         0.0       0.0            0.0            0.0   \n74892   0.0         0.0       0.0            0.0            0.0   \n\n       overall.second  overall.third  \n0                 0.0            0.0  \n1                 0.0            0.0  \n2                 0.0            0.0  \n3                 0.0            0.0  \n4                 0.0            0.0  \n...               ...            ...  \n74888             0.0            0.0  \n74889             0.0            0.0  \n74890             0.0            0.0  \n74891             0.0            0.0  \n74892             0.0            0.0  \n\n[74893 rows x 24 columns]",
      "text/html": "<div>\n<style scoped>\n    .dataframe tbody tr th:only-of-type {\n        vertical-align: middle;\n    }\n\n    .dataframe tbody tr th {\n        vertical-align: top;\n    }\n\n    .dataframe thead th {\n        text-align: right;\n    }\n</style>\n<table border=\"1\" class=\"dataframe\">\n  <thead>\n    <tr style=\"text-align: right;\">\n      <th></th>\n      <th>Unnamed: 0_x</th>\n      <th>currency</th>\n      <th>price</th>\n      <th>sold_at</th>\n      <th>horse_id</th>\n      <th>genotype</th>\n      <th>bloodline</th>\n      <th>breed_type</th>\n      <th>color</th>\n      <th>birthday</th>\n      <th>...</th>\n      <th>Unnamed: 0_y</th>\n      <th>free_win_rate</th>\n      <th>paid_win_rate</th>\n      <th>place</th>\n      <th>total_paid</th>\n      <th>win_rate</th>\n      <th>overall.first</th>\n      <th>overall.races</th>\n      <th>overall.second</th>\n      <th>overall.third</th>\n    </tr>\n  </thead>\n  <tbody>\n    <tr>\n      <th>0</th>\n      <td>0</td>\n      <td>0x7ceb23fd6bc0add59e62ac25578270cff1b9f619</td>\n      <td>0.010000</td>\n      <td>1673715139</td>\n      <td>154936</td>\n      <td>Z10</td>\n      <td>Buterin</td>\n      <td>exclusive</td>\n      <td>Dark Byzantium</td>\n      <td>2021-11-26T20:28:07</td>\n      <td>...</td>\n      <td>0.0</td>\n      <td>0.0</td>\n      <td>0.0</td>\n      <td>0.0</td>\n      <td>0.0</td>\n      <td>0.0</td>\n      <td>0.0</td>\n      <td>0.0</td>\n      <td>0.0</td>\n      <td>0.0</td>\n    </tr>\n    <tr>\n      <th>1</th>\n      <td>1</td>\n      <td>0x7ceb23fd6bc0add59e62ac25578270cff1b9f619</td>\n      <td>0.010000</td>\n      <td>1669619149</td>\n      <td>154936</td>\n      <td>Z10</td>\n      <td>Buterin</td>\n      <td>exclusive</td>\n      <td>Dark Byzantium</td>\n      <td>2021-11-26T20:28:07</td>\n      <td>...</td>\n      <td>0.0</td>\n      <td>0.0</td>\n      <td>0.0</td>\n      <td>0.0</td>\n      <td>0.0</td>\n      <td>0.0</td>\n      <td>0.0</td>\n      <td>0.0</td>\n      <td>0.0</td>\n      <td>0.0</td>\n    </tr>\n    <tr>\n      <th>2</th>\n      <td>2</td>\n      <td>0x7ceb23fd6bc0add59e62ac25578270cff1b9f619</td>\n      <td>0.036450</td>\n      <td>1673715005</td>\n      <td>67201</td>\n      <td>Z17</td>\n      <td>Buterin</td>\n      <td>legendary</td>\n      <td>China Rose</td>\n      <td>2021-07-31T21:58:35</td>\n      <td>...</td>\n      <td>0.0</td>\n      <td>0.0</td>\n      <td>0.0</td>\n      <td>0.0</td>\n      <td>0.0</td>\n      <td>0.0</td>\n      <td>0.0</td>\n      <td>0.0</td>\n      <td>0.0</td>\n      <td>0.0</td>\n    </tr>\n    <tr>\n      <th>3</th>\n      <td>3</td>\n      <td>0x7ceb23fd6bc0add59e62ac25578270cff1b9f619</td>\n      <td>0.015000</td>\n      <td>1649393858</td>\n      <td>67201</td>\n      <td>Z17</td>\n      <td>Buterin</td>\n      <td>legendary</td>\n      <td>China Rose</td>\n      <td>2021-07-31T21:58:35</td>\n      <td>...</td>\n      <td>0.0</td>\n      <td>0.0</td>\n      <td>0.0</td>\n      <td>0.0</td>\n      <td>0.0</td>\n      <td>0.0</td>\n      <td>0.0</td>\n      <td>0.0</td>\n      <td>0.0</td>\n      <td>0.0</td>\n    </tr>\n    <tr>\n      <th>4</th>\n      <td>4</td>\n      <td>0x7ceb23fd6bc0add59e62ac25578270cff1b9f619</td>\n      <td>0.035000</td>\n      <td>1647841099</td>\n      <td>67201</td>\n      <td>Z17</td>\n      <td>Buterin</td>\n      <td>legendary</td>\n      <td>China Rose</td>\n      <td>2021-07-31T21:58:35</td>\n      <td>...</td>\n      <td>0.0</td>\n      <td>0.0</td>\n      <td>0.0</td>\n      <td>0.0</td>\n      <td>0.0</td>\n      <td>0.0</td>\n      <td>0.0</td>\n      <td>0.0</td>\n      <td>0.0</td>\n      <td>0.0</td>\n    </tr>\n    <tr>\n      <th>...</th>\n      <td>...</td>\n      <td>...</td>\n      <td>...</td>\n      <td>...</td>\n      <td>...</td>\n      <td>...</td>\n      <td>...</td>\n      <td>...</td>\n      <td>...</td>\n      <td>...</td>\n      <td>...</td>\n      <td>...</td>\n      <td>...</td>\n      <td>...</td>\n      <td>...</td>\n      <td>...</td>\n      <td>...</td>\n      <td>...</td>\n      <td>...</td>\n      <td>...</td>\n      <td>...</td>\n    </tr>\n    <tr>\n      <th>74888</th>\n      <td>74888</td>\n      <td>0x7ceb23fd6bc0add59e62ac25578270cff1b9f619</td>\n      <td>0.002300</td>\n      <td>1645684909</td>\n      <td>215153</td>\n      <td>Z9</td>\n      <td>Finney</td>\n      <td>exclusive</td>\n      <td>Bondi Blue</td>\n      <td>2022-02-19T00:16:23</td>\n      <td>...</td>\n      <td>0.0</td>\n      <td>0.0</td>\n      <td>0.0</td>\n      <td>0.0</td>\n      <td>0.0</td>\n      <td>0.0</td>\n      <td>0.0</td>\n      <td>0.0</td>\n      <td>0.0</td>\n      <td>0.0</td>\n    </tr>\n    <tr>\n      <th>74889</th>\n      <td>74889</td>\n      <td>0x7ceb23fd6bc0add59e62ac25578270cff1b9f619</td>\n      <td>0.001234</td>\n      <td>1645655356</td>\n      <td>200381</td>\n      <td>Z22</td>\n      <td>Buterin</td>\n      <td>exclusive</td>\n      <td>Cadet Blue</td>\n      <td>2022-01-28T06:40:28</td>\n      <td>...</td>\n      <td>0.0</td>\n      <td>0.0</td>\n      <td>0.0</td>\n      <td>0.0</td>\n      <td>0.0</td>\n      <td>0.0</td>\n      <td>0.0</td>\n      <td>0.0</td>\n      <td>0.0</td>\n      <td>0.0</td>\n    </tr>\n    <tr>\n      <th>74890</th>\n      <td>74890</td>\n      <td>0x7ceb23fd6bc0add59e62ac25578270cff1b9f619</td>\n      <td>0.001234</td>\n      <td>1645654068</td>\n      <td>200381</td>\n      <td>Z22</td>\n      <td>Buterin</td>\n      <td>exclusive</td>\n      <td>Cadet Blue</td>\n      <td>2022-01-28T06:40:28</td>\n      <td>...</td>\n      <td>0.0</td>\n      <td>0.0</td>\n      <td>0.0</td>\n      <td>0.0</td>\n      <td>0.0</td>\n      <td>0.0</td>\n      <td>0.0</td>\n      <td>0.0</td>\n      <td>0.0</td>\n      <td>0.0</td>\n    </tr>\n    <tr>\n      <th>74891</th>\n      <td>74891</td>\n      <td>0x7ceb23fd6bc0add59e62ac25578270cff1b9f619</td>\n      <td>0.001234</td>\n      <td>1645634560</td>\n      <td>200381</td>\n      <td>Z22</td>\n      <td>Buterin</td>\n      <td>exclusive</td>\n      <td>Cadet Blue</td>\n      <td>2022-01-28T06:40:28</td>\n      <td>...</td>\n      <td>0.0</td>\n      <td>0.0</td>\n      <td>0.0</td>\n      <td>0.0</td>\n      <td>0.0</td>\n      <td>0.0</td>\n      <td>0.0</td>\n      <td>0.0</td>\n      <td>0.0</td>\n      <td>0.0</td>\n    </tr>\n    <tr>\n      <th>74892</th>\n      <td>74892</td>\n      <td>0x7ceb23fd6bc0add59e62ac25578270cff1b9f619</td>\n      <td>0.001234</td>\n      <td>1645634560</td>\n      <td>200381</td>\n      <td>Z22</td>\n      <td>Buterin</td>\n      <td>exclusive</td>\n      <td>Cadet Blue</td>\n      <td>2022-01-28T06:40:28</td>\n      <td>...</td>\n      <td>0.0</td>\n      <td>0.0</td>\n      <td>0.0</td>\n      <td>0.0</td>\n      <td>0.0</td>\n      <td>0.0</td>\n      <td>0.0</td>\n      <td>0.0</td>\n      <td>0.0</td>\n      <td>0.0</td>\n    </tr>\n  </tbody>\n</table>\n<p>74893 rows × 24 columns</p>\n</div>"
     },
     "execution_count": 97,
     "metadata": {},
     "output_type": "execute_result"
    }
   ],
   "source": [
    "meta_data_races = pd.read_csv(\"https://raw.githubusercontent.com/ThoroughZed-Analytics/Thoroughzed/dev/sales_and_stats_oliver.csv\")\n",
    "meta_data_attributes = pd.read_csv(\"https://raw.githubusercontent.com/ThoroughZed-Analytics/Thoroughzed/dev/data/master_data/backup_meta_db.csv\")\n",
    "\n",
    "merged = meta_data_attributes.copy()\n",
    "merged = merged.merge(meta_data_races, on = \"horse_id\", how = \"outer\").fillna(0)\n",
    "\n",
    "merged"
   ]
  },
  {
   "cell_type": "code",
   "execution_count": 98,
   "id": "09757045-687d-4697-bb6d-2b9f1f8c01ed",
   "metadata": {},
   "outputs": [],
   "source": [
    "# Make DataFrame Pipeline Interactive\n",
    "idf = df.interactive()"
   ]
  },
  {
   "cell_type": "code",
   "execution_count": 99,
   "id": "a42abd68-382f-494b-ac36-adf633246f69",
   "metadata": {},
   "outputs": [],
   "source": [
    "# median price for time (with radio buttons)"
   ]
  },
  {
   "cell_type": "code",
   "execution_count": 100,
   "id": "d43ca4f3-f522-4cff-9ab5-e836b7b4ca7b",
   "metadata": {},
   "outputs": [],
   "source": [
    "# Number of sales by ETH price( slider ETH price) over time x-ETH price, y-total number of sales"
   ]
  },
  {
   "cell_type": "code",
   "execution_count": 101,
   "id": "270d4d4f-46f1-4fbf-bca8-365cdc00ea67",
   "metadata": {},
   "outputs": [],
   "source": [
    "# Total number of sale"
   ]
  },
  {
   "cell_type": "code",
   "execution_count": 102,
   "id": "3de8e9d4-0ec1-4f76-b0b9-c3ce7fafc8e8",
   "metadata": {},
   "outputs": [],
   "source": [
    "# Display relative valuation in graph form (radio buttons for set percentiles)"
   ]
  },
  {
   "cell_type": "markdown",
   "source": [
    "# Creating Dashboard"
   ],
   "metadata": {
    "collapsed": false
   }
  },
  {
   "cell_type": "code",
   "execution_count": 103,
   "id": "4563bcf7-5312-4163-91a4-8f0a232976f6",
   "metadata": {},
   "outputs": [],
   "source": [
    "def open_dash():\n",
    "    ACCENT_COLOR = pn.template.FastGridTemplate.accent_base_color\n",
    "    XS = np.linspace(0, np.pi)\n",
    "\n",
    "    def sine(freq, phase):\n",
    "        return hv.Curve((XS, np.sin(XS * freq + phase))).opts(\n",
    "            responsive=True, min_height=400, title=\"Sine\", color=ACCENT_COLOR\n",
    "        ).opts(line_width=6)\n",
    "\n",
    "    def cosine(freq, phase):\n",
    "        return hv.Curve((XS, np.cos(XS * freq + phase))).opts(\n",
    "            responsive=True, min_height=400, title=\"Cosine\", color=ACCENT_COLOR\n",
    "        ).opts(line_width=6)\n",
    "\n",
    "    freq = pn.widgets.FloatSlider(name=\"Frequency\", start=0, end=10, value=2)\n",
    "    phase = pn.widgets.FloatSlider(name=\"Phase\", start=0, end=np.pi)\n",
    "\n",
    "    sine = pn.bind(sine, freq=freq, phase=phase)\n",
    "    cosine = pn.bind(cosine, freq=freq, phase=phase)\n",
    "\n",
    "    template = pn.template.FastGridTemplate(\n",
    "        site=\"ThoroughZED Analytics\", title=\"Relative Valuation Dashboard\",\n",
    "        header_color='red', header_background='black', theme='dark',\n",
    "        main_layout='card',\n",
    "        sidebar=[pn.pane.Markdown(\"## Settings\"), freq, phase],\n",
    "    )\n",
    "\n",
    "    template.main[:3, :6] = pn.pane.HoloViews(hv.DynamicMap(sine), sizing_mode=\"stretch_both\")\n",
    "    template.main[:3, 6:] = pn.pane.HoloViews(hv.DynamicMap(cosine), sizing_mode=\"stretch_both\")\n",
    "    template.show()"
   ]
  },
  {
   "cell_type": "code",
   "execution_count": 104,
   "outputs": [
    {
     "name": "stdout",
     "output_type": "stream",
     "text": [
      "Launching server at http://localhost:51367\n"
     ]
    }
   ],
   "source": [
    "open_dash()"
   ],
   "metadata": {
    "collapsed": false
   }
  }
 ],
 "metadata": {
  "kernelspec": {
   "display_name": "Python 3 (ipykernel)",
   "language": "python",
   "name": "python3"
  },
  "language_info": {
   "codemirror_mode": {
    "name": "ipython",
    "version": 3
   },
   "file_extension": ".py",
   "mimetype": "text/x-python",
   "name": "python",
   "nbconvert_exporter": "python",
   "pygments_lexer": "ipython3",
   "version": "3.11.1"
  }
 },
 "nbformat": 4,
 "nbformat_minor": 5
}

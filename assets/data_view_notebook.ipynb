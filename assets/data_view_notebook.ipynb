{
 "cells": [
  {
   "cell_type": "code",
   "execution_count": 6,
   "metadata": {},
   "outputs": [
    {
     "data": {
      "text/html": [
       "<div>\n",
       "<style scoped>\n",
       "    .dataframe tbody tr th:only-of-type {\n",
       "        vertical-align: middle;\n",
       "    }\n",
       "\n",
       "    .dataframe tbody tr th {\n",
       "        vertical-align: top;\n",
       "    }\n",
       "\n",
       "    .dataframe thead th {\n",
       "        text-align: right;\n",
       "    }\n",
       "</style>\n",
       "<table border=\"1\" class=\"dataframe\">\n",
       "  <thead>\n",
       "    <tr style=\"text-align: right;\">\n",
       "      <th></th>\n",
       "      <th>Unnamed: 0</th>\n",
       "      <th>data_horse_bloodline</th>\n",
       "      <th>data_horse_breed_type</th>\n",
       "      <th>data_horse_breeding_counter</th>\n",
       "      <th>data_horse_color</th>\n",
       "      <th>data_horse_gen</th>\n",
       "      <th>data_horse_horse_type</th>\n",
       "      <th>data_horse_img_url</th>\n",
       "      <th>data_horse_inserted_at</th>\n",
       "      <th>data_horse_last_breeding_reset</th>\n",
       "      <th>data_horse_name</th>\n",
       "      <th>data_horse_nft_id</th>\n",
       "      <th>data_horse_offsprings</th>\n",
       "      <th>data_horse_race_statistic_first_place_finishes</th>\n",
       "      <th>data_horse_race_statistic_number_of_races</th>\n",
       "      <th>data_horse_race_statistic_second_place_finishes</th>\n",
       "      <th>data_horse_race_statistic_third_place_finishes</th>\n",
       "      <th>data_horse_race_statistic_win_rate</th>\n",
       "    </tr>\n",
       "  </thead>\n",
       "  <tbody>\n",
       "    <tr>\n",
       "      <th>0</th>\n",
       "      <td>0</td>\n",
       "      <td>Buterin</td>\n",
       "      <td>exclusive</td>\n",
       "      <td>3</td>\n",
       "      <td>Dark Byzantium</td>\n",
       "      <td>Z10</td>\n",
       "      <td>Stallion</td>\n",
       "      <td>https://img.zed.run/horses/5D3954.png</td>\n",
       "      <td>2021-11-26T20:32:39</td>\n",
       "      <td>2022-12-23T20:28:07Z</td>\n",
       "      <td>Scrunter S Thompson</td>\n",
       "      <td>154936</td>\n",
       "      <td>[{'bloodline': 'Buterin', 'breed_type': 'elite...</td>\n",
       "      <td>11</td>\n",
       "      <td>101</td>\n",
       "      <td>7</td>\n",
       "      <td>10</td>\n",
       "      <td>10.89</td>\n",
       "    </tr>\n",
       "  </tbody>\n",
       "</table>\n",
       "</div>"
      ],
      "text/plain": [
       "   Unnamed: 0 data_horse_bloodline data_horse_breed_type  \\\n",
       "0           0              Buterin             exclusive   \n",
       "\n",
       "   data_horse_breeding_counter data_horse_color data_horse_gen  \\\n",
       "0                            3   Dark Byzantium            Z10   \n",
       "\n",
       "  data_horse_horse_type                     data_horse_img_url  \\\n",
       "0              Stallion  https://img.zed.run/horses/5D3954.png   \n",
       "\n",
       "  data_horse_inserted_at data_horse_last_breeding_reset      data_horse_name  \\\n",
       "0    2021-11-26T20:32:39           2022-12-23T20:28:07Z  Scrunter S Thompson   \n",
       "\n",
       "   data_horse_nft_id                              data_horse_offsprings  \\\n",
       "0             154936  [{'bloodline': 'Buterin', 'breed_type': 'elite...   \n",
       "\n",
       "   data_horse_race_statistic_first_place_finishes  \\\n",
       "0                                              11   \n",
       "\n",
       "   data_horse_race_statistic_number_of_races  \\\n",
       "0                                        101   \n",
       "\n",
       "   data_horse_race_statistic_second_place_finishes  \\\n",
       "0                                                7   \n",
       "\n",
       "   data_horse_race_statistic_third_place_finishes  \\\n",
       "0                                              10   \n",
       "\n",
       "   data_horse_race_statistic_win_rate  \n",
       "0                               10.89  "
      ]
     },
     "execution_count": 6,
     "metadata": {},
     "output_type": "execute_result"
    }
   ],
   "source": [
    "import pandas as pd\n",
    "x = pd.read_csv('example_data/horse_meta_data.csv')"
   ]
  }
 ],
 "metadata": {
  "kernelspec": {
   "display_name": ".venv",
   "language": "python",
   "name": "python3"
  },
  "language_info": {
   "codemirror_mode": {
    "name": "ipython",
    "version": 3
   },
   "file_extension": ".py",
   "mimetype": "text/x-python",
   "name": "python",
   "nbconvert_exporter": "python",
   "pygments_lexer": "ipython3",
   "version": "3.11.1"
  },
  "orig_nbformat": 4,
  "vscode": {
   "interpreter": {
    "hash": "ee81ebe712299731f63fa2a3859e55f2ce99880f09b3986e654d1d1573125bed"
   }
  }
 },
 "nbformat": 4,
 "nbformat_minor": 2
}
